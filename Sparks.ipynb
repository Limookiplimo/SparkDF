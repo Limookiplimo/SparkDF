{
 "cells": [
  {
   "cell_type": "code",
   "execution_count": 4,
   "id": "9d9313fa",
   "metadata": {},
   "outputs": [],
   "source": [
    "import pyspark\n",
    "from pyspark.sql import SparkSession, Row, Column\n",
    "from pyspark.sql.functions import upper\n",
    "import pandas as pd\n",
    "from datetime import datetime, date"
   ]
  },
  {
   "cell_type": "code",
   "execution_count": 5,
   "id": "e0646d44",
   "metadata": {},
   "outputs": [
    {
     "name": "stderr",
     "output_type": "stream",
     "text": [
      "23/04/26 18:03:50 WARN Utils: Your hostname, drice resolves to a loopback address: 127.0.1.1; using 192.168.37.102 instead (on interface enp44s0)\n",
      "23/04/26 18:03:50 WARN Utils: Set SPARK_LOCAL_IP if you need to bind to another address\n",
      "Setting default log level to \"WARN\".\n",
      "To adjust logging level use sc.setLogLevel(newLevel). For SparkR, use setLogLevel(newLevel).\n",
      "23/04/26 18:03:51 WARN NativeCodeLoader: Unable to load native-hadoop library for your platform... using builtin-java classes where applicable\n"
     ]
    }
   ],
   "source": [
    "spark = SparkSession.builder.getOrCreate()"
   ]
  },
  {
   "cell_type": "code",
   "execution_count": 10,
   "id": "5fed7090",
   "metadata": {},
   "outputs": [
    {
     "data": {
      "text/plain": [
       "DataFrame[a: bigint, b: double, c: string, d: date, e: timestamp]"
      ]
     },
     "execution_count": 10,
     "metadata": {},
     "output_type": "execute_result"
    }
   ],
   "source": [
    "#List of Rows\n",
    "df = spark.createDataFrame([\n",
    "    Row(a=1,b=2.,c='string1',d=date(2001,1,1),e=datetime(2001,1,1,12,0)),\n",
    "    Row(a=2,b=3.,c='string2',d=date(2001,2,1),e=datetime(2001,2,1,12,0)),\n",
    "    Row(a=3,b=4.,c='string3',d=date(2001,3,1),e=datetime(2001,3,1,12,0))\n",
    "])\n",
    "df"
   ]
  },
  {
   "cell_type": "code",
   "execution_count": 12,
   "id": "d05a77fe",
   "metadata": {},
   "outputs": [
    {
     "data": {
      "text/plain": [
       "DataFrame[a: bigint, b: double, c: string, d: date, e: timestamp]"
      ]
     },
     "execution_count": 12,
     "metadata": {},
     "output_type": "execute_result"
    }
   ],
   "source": [
    "#Explicit schema\n",
    "df = spark.createDataFrame([\n",
    "    (1,2.,'string1', date(2000,1,1),datetime(2000,1,1,0)),\n",
    "    (2,3.,'string2', date(2000,1,1),datetime(2000,1,1,0)),\n",
    "    (3,4.,'string3', date(2000,1,1),datetime(2000,1,1,0))\n",
    "],\n",
    "schema='a long, b double, c string, d date, e timestamp')\n",
    "df"
   ]
  },
  {
   "cell_type": "code",
   "execution_count": null,
   "id": "5ffe2107",
   "metadata": {},
   "outputs": [],
   "source": []
  }
 ],
 "metadata": {
  "kernelspec": {
   "display_name": "Python 3 (ipykernel)",
   "language": "python",
   "name": "python3"
  },
  "language_info": {
   "codemirror_mode": {
    "name": "ipython",
    "version": 3
   },
   "file_extension": ".py",
   "mimetype": "text/x-python",
   "name": "python",
   "nbconvert_exporter": "python",
   "pygments_lexer": "ipython3",
   "version": "3.11.3"
  }
 },
 "nbformat": 4,
 "nbformat_minor": 5
}
